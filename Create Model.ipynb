{
 "cells": [
  {
   "cell_type": "markdown",
   "id": "56e5779a-11fb-4f05-b435-65d0c7fc2892",
   "metadata": {},
   "source": [
    "## Import Desired Library"
   ]
  },
  {
   "cell_type": "code",
   "execution_count": 1,
   "id": "872bcabc-1871-43f4-acfe-319ee1bccd8d",
   "metadata": {},
   "outputs": [
    {
     "name": "stdout",
     "output_type": "stream",
     "text": [
      "Running TensorflowVersion: 2.5.0\n"
     ]
    }
   ],
   "source": [
    "import os\n",
    "\n",
    "from __future__ import absolute_import, division, print_function, unicode_literals\n",
    "\n",
    "from numpy.random import seed\n",
    "seed(101)\n",
    "\n",
    "import numpy as np\n",
    "import pandas as pd\n",
    "\n",
    "import tensorflow as tf\n",
    "from tensorflow import keras\n",
    "config = tf.compat.v1.ConfigProto()\n",
    "config.gpu_options.allow_growth = True\n",
    "sess = tf.compat.v1.Session(config=config)\n",
    "from tensorflow.keras.preprocessing.image import ImageDataGenerator\n",
    "from tensorflow.keras.layers import Dense, Dropout, GlobalAveragePooling2D\n",
    "from tensorflow.keras import Sequential\n",
    "from tensorflow.keras.models import load_model\n",
    "from tensorflow.keras.callbacks import EarlyStopping, ReduceLROnPlateau, ModelCheckpoint\n",
    "\n",
    "from sklearn.metrics import confusion_matrix\n",
    "\n",
    "from matplotlib import pyplot as plt\n",
    "%matplotlib inline\n",
    "print(\"Running TensorflowVersion: \" + str(tf.__version__))"
   ]
  },
  {
   "cell_type": "markdown",
   "id": "f0b09648-0202-4991-ae8a-911681fb6de0",
   "metadata": {},
   "source": [
    "## Select appropriate distribution strategy for hardware"
   ]
  },
  {
   "cell_type": "code",
   "execution_count": 2,
   "id": "34b5e3b9-292b-464b-9c51-551fbe7d3e61",
   "metadata": {},
   "outputs": [
    {
     "name": "stdout",
     "output_type": "stream",
     "text": [
      "WARNING:tensorflow:Collective ops is not configured at program startup. Some performance features may not be enabled.\n",
      "INFO:tensorflow:Using MirroredStrategy with devices ('/job:localhost/replica:0/task:0/device:GPU:0',)\n",
      "Running on  1  GPU(s)\n"
     ]
    }
   ],
   "source": [
    "try:\n",
    "    tpu = tf.distribute.cluster_resolver.TPUClusterResolver()\n",
    "except ValueError:\n",
    "    tpu = None\n",
    "    gpus = tf.config.experimental.list_logical_devices('GPU')\n",
    "\n",
    "if tpu:\n",
    "    tf.config.experimental_connect_to_cluster(tpu)\n",
    "    tf.tpu.experimental.initialize_tpu_system(tpu)\n",
    "    strategy = tf.distribute.experimental.TPUStrategy(tpu)\n",
    "    print(\"Running on TPU: \" + str(tpu.master()))\n",
    "elif len(gpus) > 0:\n",
    "    strategy = tf.distribute.MirroredStrategy(gpus)\n",
    "    print(\"Running on \",len(gpus),\" GPU(s)\")\n",
    "else:\n",
    "    strategy = tf.distribute.get_strategy()\n",
    "    print(\"Running on CPU\")"
   ]
  },
  {
   "cell_type": "markdown",
   "id": "f3cf9099-51a4-4f20-8745-bb4b61edf908",
   "metadata": {},
   "source": [
    "## Setup Strategy Based on Hardware"
   ]
  },
  {
   "cell_type": "code",
   "execution_count": 3,
   "id": "30053c34-f7b6-40d1-b5e0-c6fe9038d183",
   "metadata": {},
   "outputs": [
    {
     "name": "stdout",
     "output_type": "stream",
     "text": [
      "Total Training Images: 11400\n",
      "Total Validation Images: 600\n",
      "Total Test Images: 600\n",
      "Train Steps: 713\n",
      "Val steps: 38\n"
     ]
    }
   ],
   "source": [
    "train_path = \"Dataset/Train\"\n",
    "val_path = \"Dataset/Validation\"\n",
    "test_path = \"Dataset/Test\"\n",
    "\n",
    "train_images = [image for dir,_,sublist in os.walk(train_path) for image in sublist]\n",
    "val_images = [image for dir,_,sublist in os.walk(val_path) for image in sublist]\n",
    "test_images = [image for dir,_,sublist in os.walk(test_path) for image in sublist]\n",
    "num_train_images = len(train_images)\n",
    "num_val_images = len(val_images)\n",
    "num_test_images = len(test_images)\n",
    "\n",
    "IMAGE_SIZE = 224 \n",
    "EPOCHS = 10\n",
    "\n",
    "#CLASSES = ['Boat', 'Bus', 'Car', 'Cat', 'Flower', 'Horse']\n",
    "multi = 16 \n",
    "\n",
    "#Learning rate scheduling variables\n",
    "num_units = strategy.num_replicas_in_sync\n",
    "if num_units == 8:\n",
    "    BATCH_SIZE = multi * num_units\n",
    "    VALIDATION_BATCH_SIZE = multi * num_units\n",
    "    start_lr = 0.00001\n",
    "    min_lr = 0.00001\n",
    "    max_lr = 0.00005 * num_units\n",
    "    rampup_epochs = 8\n",
    "    sustain_epochs = 0\n",
    "    exp_decay = 0.8\n",
    "elif num_units == 1:\n",
    "    BATCH_SIZE = multi\n",
    "    VALIDATION_BATCH_SIZE = multi\n",
    "    start_lr = 0.00001 #0.00001\n",
    "    min_lr = 0.00001 #0.00001\n",
    "    max_lr = 0.0002 #0.0002\n",
    "    rampup_epochs = 8 #8\n",
    "    sustain_epochs = 0\n",
    "    exp_decay = 0.8\n",
    "else:\n",
    "    BATCH_SIZE = int(multi/2) * num_units\n",
    "    VALIDATION_BATCH_SIZE = int(multi/2) * num_units\n",
    "    start_lr = 0.00001  \n",
    "    min_lr = 0.00001\n",
    "    max_lr = 0.00002 * num_units\n",
    "    rampup_epochs = 11\n",
    "    sustain_epochs = 0\n",
    "    exp_decay = 0.8\n",
    "    \n",
    "train_steps = int(np.ceil(num_train_images/BATCH_SIZE))\n",
    "val_steps = int(np.ceil(num_val_images/VALIDATION_BATCH_SIZE))\n",
    "\n",
    "print(\"Total Training Images: \" + str(num_train_images))\n",
    "print(\"Total Validation Images: \" + str(num_val_images))\n",
    "print(\"Total Test Images: \" + str(num_test_images))\n",
    "\n",
    "print(\"Train Steps: \" + str(train_steps))\n",
    "print(\"Val steps: \" + str(val_steps))\n",
    "\n",
    "def display_training_curves(training,validation,title,subplot):\n",
    "    if subplot%10 == 1:\n",
    "        plt.subplots(figsize = (10,10),facecolor='#F0F0F0')\n",
    "        plt.tight_layout()\n",
    "    ax = plt.subplot(subplot)\n",
    "    ax.set_facecolor('#F8F8F8')\n",
    "    ax.plot(training)\n",
    "    ax.plot(validation)\n",
    "    ax.set_title('model '+ title)\n",
    "    ax.set_ylabel(title)\n",
    "    ax.set_xlabel('epoch')\n",
    "    ax.legend(['train', 'valid.'])\n",
    "    \n",
    "def learningrate_function(epoch):\n",
    "    if epoch < rampup_epochs:\n",
    "        lr = (max_lr - start_lr)/rampup_epochs * epoch + start_lr\n",
    "    elif epoch < rampup_epochs + sustain_epochs:\n",
    "        lr = max_lr\n",
    "    else:\n",
    "        lr = (max_lr - min_lr) * exp_decay**(epoch - rampup_epochs - sustain_epochs) + min_lr\n",
    "    return lr\n",
    "\n",
    "def learning_rate_callback():\n",
    "    lr_callback = tf.keras.callbacks.LearningRateScheduler(lambda epoch : learningrate_function(epoch),verbose = True)\n",
    "    rng = [i for i in range(EPOCHS)]\n",
    "    y = [learningrate_function(x) for x in range(EPOCHS)]\n",
    "    plt.plot(rng,y)\n",
    "    return lr_callback"
   ]
  },
  {
   "cell_type": "markdown",
   "id": "da57f8bd-48c4-4110-8b60-03b273bcdeb2",
   "metadata": {},
   "source": [
    "## Define Training, Validation, Test Dataset through Folder"
   ]
  },
  {
   "cell_type": "code",
   "execution_count": 4,
   "id": "1bd2653a-05a0-40ff-a690-e029e7f06c27",
   "metadata": {},
   "outputs": [
    {
     "name": "stdout",
     "output_type": "stream",
     "text": [
      "Found 11400 images belonging to 6 classes.\n",
      "Found 600 images belonging to 6 classes.\n",
      "Found 600 images belonging to 6 classes.\n"
     ]
    }
   ],
   "source": [
    "datagen = ImageDataGenerator(\n",
    "        rescale=1./255,\n",
    "        rotation_range=40,\n",
    "        width_shift_range=0.2,\n",
    "        height_shift_range=0.2,\n",
    "        shear_range=0.2,\n",
    "        zoom_range=0.2,\n",
    "        horizontal_flip=True,\n",
    "        fill_mode='nearest')\n",
    "\n",
    "train_datagen = datagen.flow_from_directory(train_path, \n",
    "                                            target_size = (IMAGE_SIZE,IMAGE_SIZE),\n",
    "                                            batch_size = BATCH_SIZE, \n",
    "                                            class_mode = 'categorical')\n",
    "\n",
    "val_datagen = datagen.flow_from_directory(val_path,\n",
    "                                          target_size = (IMAGE_SIZE,IMAGE_SIZE),\n",
    "                                          batch_size = VALIDATION_BATCH_SIZE,\n",
    "                                          class_mode = 'categorical')\n",
    "\n",
    "test_datagen = datagen.flow_from_directory(test_path,\n",
    "                                            target_size = (IMAGE_SIZE,IMAGE_SIZE),\n",
    "                                            batch_size = 1, \n",
    "                                            class_mode = 'categorical',\n",
    "                                            shuffle = False)"
   ]
  },
  {
   "cell_type": "code",
   "execution_count": 5,
   "id": "a1f12b24-92d4-45de-a2ed-75e9a4f27e41",
   "metadata": {},
   "outputs": [
    {
     "name": "stdout",
     "output_type": "stream",
     "text": [
      "['Boat', 'Bus', 'Car', 'Cat', 'Flower', 'Horse']\n"
     ]
    }
   ],
   "source": [
    "CLASSES = list(train_datagen.class_indices.keys())\n",
    "print(CLASSES)"
   ]
  },
  {
   "cell_type": "markdown",
   "id": "8c984143-295f-411a-b1d9-189efaa66bf8",
   "metadata": {},
   "source": [
    "## Define Model Layers"
   ]
  },
  {
   "cell_type": "code",
   "execution_count": 6,
   "id": "7cda3d6e-4dad-42ea-8482-b4615797fee6",
   "metadata": {},
   "outputs": [
    {
     "name": "stdout",
     "output_type": "stream",
     "text": [
      "INFO:tensorflow:Reduce to /job:localhost/replica:0/task:0/device:CPU:0 then broadcast to ('/job:localhost/replica:0/task:0/device:CPU:0',).\n",
      "INFO:tensorflow:Reduce to /job:localhost/replica:0/task:0/device:CPU:0 then broadcast to ('/job:localhost/replica:0/task:0/device:CPU:0',).\n",
      "INFO:tensorflow:Reduce to /job:localhost/replica:0/task:0/device:CPU:0 then broadcast to ('/job:localhost/replica:0/task:0/device:CPU:0',).\n",
      "INFO:tensorflow:Reduce to /job:localhost/replica:0/task:0/device:CPU:0 then broadcast to ('/job:localhost/replica:0/task:0/device:CPU:0',).\n",
      "INFO:tensorflow:Reduce to /job:localhost/replica:0/task:0/device:CPU:0 then broadcast to ('/job:localhost/replica:0/task:0/device:CPU:0',).\n",
      "INFO:tensorflow:Reduce to /job:localhost/replica:0/task:0/device:CPU:0 then broadcast to ('/job:localhost/replica:0/task:0/device:CPU:0',).\n",
      "INFO:tensorflow:Reduce to /job:localhost/replica:0/task:0/device:CPU:0 then broadcast to ('/job:localhost/replica:0/task:0/device:CPU:0',).\n",
      "INFO:tensorflow:Reduce to /job:localhost/replica:0/task:0/device:CPU:0 then broadcast to ('/job:localhost/replica:0/task:0/device:CPU:0',).\n",
      "INFO:tensorflow:Reduce to /job:localhost/replica:0/task:0/device:CPU:0 then broadcast to ('/job:localhost/replica:0/task:0/device:CPU:0',).\n",
      "INFO:tensorflow:Reduce to /job:localhost/replica:0/task:0/device:CPU:0 then broadcast to ('/job:localhost/replica:0/task:0/device:CPU:0',).\n",
      "Model: \"sequential\"\n",
      "_________________________________________________________________\n",
      "Layer (type)                 Output Shape              Param #   \n",
      "=================================================================\n",
      "mobilenetv2_1.00_224 (Functi (None, 7, 7, 1280)        2257984   \n",
      "_________________________________________________________________\n",
      "flatten (Flatten)            (None, 62720)             0         \n",
      "_________________________________________________________________\n",
      "dense (Dense)                (None, 512)               32113152  \n",
      "_________________________________________________________________\n",
      "dropout (Dropout)            (None, 512)               0         \n",
      "_________________________________________________________________\n",
      "dense_1 (Dense)              (None, 6)                 3078      \n",
      "=================================================================\n",
      "Total params: 34,374,214\n",
      "Trainable params: 34,340,102\n",
      "Non-trainable params: 34,112\n",
      "_________________________________________________________________\n"
     ]
    },
    {
     "data": {
      "image/png": "[encoded data removed]",
      "text/plain": [
       "<Figure size 432x288 with 1 Axes>"
      ]
     },
     "metadata": {
      "needs_background": "light"
     },
     "output_type": "display_data"
    }
   ],
   "source": [
    "with strategy.scope():        \n",
    "    base_model = tf.keras.applications.MobileNetV2(input_shape=(IMAGE_SIZE, IMAGE_SIZE, 3), include_top=False) \n",
    "    base_model.trainable = True\n",
    "    \n",
    "    model = Sequential([\n",
    "        base_model,       \n",
    "        tf.keras.layers.Flatten(),\n",
    "        tf.keras.layers.Dense(512, activation='relu'),\n",
    "        tf.keras.layers.Dropout(0.3),\n",
    "        Dense(6, activation = 'softmax', dtype= tf.float32)\n",
    "    ])\n",
    "    \n",
    "    model.compile(\n",
    "    optimizer = 'adam',\n",
    "    loss = 'categorical_crossentropy',\n",
    "    metrics = ['accuracy']\n",
    "    )\n",
    "    \n",
    "model.summary()\n",
    "\n",
    "lr_callback = learning_rate_callback()"
   ]
  },
  {
   "cell_type": "markdown",
   "id": "65310506-d3ca-48e9-9ef2-75e952467ce7",
   "metadata": {},
   "source": [
    "## Train the model (you can skip this step if only load the existing model)"
   ]
  },
  {
   "cell_type": "code",
   "execution_count": 7,
   "id": "27405736-7e56-41b1-9029-fec37e7dc29f",
   "metadata": {},
   "outputs": [
    {
     "name": "stdout",
     "output_type": "stream",
     "text": [
      "Epoch 1/10\n",
      "\n",
      "Epoch 00001: LearningRateScheduler reducing learning rate to 1e-05.\n",
      "713/713 [==============================] - 241s 312ms/step - loss: 0.5677 - accuracy: 0.8118 - val_loss: 0.2531 - val_accuracy: 0.9150\n",
      "\n",
      "Epoch 00001: val_accuracy improved from -inf to 0.91500, saving model to model.h5\n"
     ]
    },
    {
     "name": "stderr",
     "output_type": "stream",
     "text": [
      "C:\\Users\\KikiFade\\anaconda3\\envs\\tf_2.5\\lib\\site-packages\\tensorflow\\python\\keras\\utils\\generic_utils.py:494: CustomMaskWarning: Custom mask layers require a config and must override get_config. When loading, the custom mask layer must be passed to the custom_objects argument.\n",
      "  warnings.warn('Custom mask layers require a config and must override '\n"
     ]
    },
    {
     "name": "stdout",
     "output_type": "stream",
     "text": [
      "Epoch 2/10\n",
      "\n",
      "Epoch 00002: LearningRateScheduler reducing learning rate to 3.375e-05.\n",
      "713/713 [==============================] - 157s 220ms/step - loss: 0.3273 - accuracy: 0.8911 - val_loss: 0.1623 - val_accuracy: 0.9433\n",
      "\n",
      "Epoch 00002: val_accuracy improved from 0.91500 to 0.94333, saving model to model.h5\n",
      "Epoch 3/10\n",
      "\n",
      "Epoch 00003: LearningRateScheduler reducing learning rate to 5.75e-05.\n",
      "713/713 [==============================] - 156s 219ms/step - loss: 0.2319 - accuracy: 0.9210 - val_loss: 0.2042 - val_accuracy: 0.9367\n",
      "\n",
      "Epoch 00003: val_accuracy did not improve from 0.94333\n",
      "Epoch 4/10\n",
      "\n",
      "Epoch 00004: LearningRateScheduler reducing learning rate to 8.125e-05.\n",
      "713/713 [==============================] - 155s 218ms/step - loss: 0.2018 - accuracy: 0.9316 - val_loss: 0.2586 - val_accuracy: 0.9267\n",
      "\n",
      "Epoch 00004: val_accuracy did not improve from 0.94333\n",
      "Epoch 5/10\n",
      "\n",
      "Epoch 00005: LearningRateScheduler reducing learning rate to 0.000105.\n",
      "713/713 [==============================] - 156s 219ms/step - loss: 0.1881 - accuracy: 0.9357 - val_loss: 0.1626 - val_accuracy: 0.9483\n",
      "\n",
      "Epoch 00005: val_accuracy improved from 0.94333 to 0.94833, saving model to model.h5\n",
      "Epoch 6/10\n",
      "\n",
      "Epoch 00006: LearningRateScheduler reducing learning rate to 0.00012875.\n",
      "713/713 [==============================] - 157s 220ms/step - loss: 0.1919 - accuracy: 0.9418 - val_loss: 0.2577 - val_accuracy: 0.9283\n",
      "\n",
      "Epoch 00006: val_accuracy did not improve from 0.94833\n",
      "Epoch 7/10\n",
      "\n",
      "Epoch 00007: LearningRateScheduler reducing learning rate to 0.0001525.\n",
      "713/713 [==============================] - 158s 221ms/step - loss: 0.1860 - accuracy: 0.9381 - val_loss: 0.1908 - val_accuracy: 0.9500\n",
      "\n",
      "Epoch 00007: val_accuracy improved from 0.94833 to 0.95000, saving model to model.h5\n",
      "Epoch 8/10\n",
      "\n",
      "Epoch 00008: LearningRateScheduler reducing learning rate to 0.00017625.\n",
      "713/713 [==============================] - 164s 230ms/step - loss: 0.1975 - accuracy: 0.9397 - val_loss: 0.4913 - val_accuracy: 0.9133\n",
      "\n",
      "Epoch 00008: val_accuracy did not improve from 0.95000\n",
      "Epoch 9/10\n",
      "\n",
      "Epoch 00009: LearningRateScheduler reducing learning rate to 0.0002.\n",
      "713/713 [==============================] - 162s 227ms/step - loss: 0.2348 - accuracy: 0.9318 - val_loss: 0.4068 - val_accuracy: 0.9000\n",
      "\n",
      "Epoch 00009: val_accuracy did not improve from 0.95000\n",
      "Epoch 10/10\n",
      "\n",
      "Epoch 00010: LearningRateScheduler reducing learning rate to 0.000162.\n",
      "713/713 [==============================] - 163s 229ms/step - loss: 0.1498 - accuracy: 0.9523 - val_loss: 0.1899 - val_accuracy: 0.9533\n",
      "\n",
      "Epoch 00010: val_accuracy improved from 0.95000 to 0.95333, saving model to model.h5\n",
      " 38/600 [>.............................] - ETA: 2:01 - loss: 0.1997 - accuracy: 0.9467WARNING:tensorflow:Your input ran out of data; interrupting training. Make sure that your dataset or generator can generate at least `steps_per_epoch * epochs` batches (in this case, 600 batches). You may need to use the repeat() function when building your dataset.\n",
      "600/600 [==============================] - 8s 13ms/step - loss: 0.1997 - accuracy: 0.9467\n",
      "val_loss: 0.19966568052768707\n",
      "val_acc: 0.9466666579246521\n"
     ]
    },
    {
     "data": {
      "image/png": "[encoded data removed]",
      "text/plain": [
       "<Figure size 720x720 with 2 Axes>"
      ]
     },
     "metadata": {},
     "output_type": "display_data"
    }
   ],
   "source": [
    "filepath = \"model.h5\"\n",
    "\n",
    "checkpoint = ModelCheckpoint(filepath, monitor='val_accuracy', verbose=1, save_best_only=True, mode='max') #,mode='max'\n",
    "\n",
    "callbacks_list = [checkpoint,lr_callback]\n",
    "\n",
    "hist = model.fit(train_datagen,\n",
    "                             steps_per_epoch = train_steps,\n",
    "                             validation_data = val_datagen,\n",
    "                             validation_steps = val_steps,\n",
    "                             epochs = EPOCHS,\n",
    "                             verbose = 1,\n",
    "                             callbacks = callbacks_list)\n",
    "\n",
    "\n",
    "\n",
    "val_loss, val_acc = model.evaluate(val_datagen,steps = num_val_images)\n",
    "\n",
    "print('val_loss:', val_loss)\n",
    "print('val_acc:', val_acc)\n",
    "\n",
    "display_training_curves(hist.history['loss'], hist.history['val_loss'], 'loss', 211) \n",
    "display_training_curves(hist.history['accuracy'], hist.history['val_accuracy'], 'accuracy', 212)"
   ]
  },
  {
   "cell_type": "markdown",
   "id": "e51c193e-f2d4-45aa-b96e-46b1fba5aaf5",
   "metadata": {},
   "source": [
    "## Load Trained Model"
   ]
  },
  {
   "cell_type": "code",
   "execution_count": 12,
   "id": "f975b354-926b-4f87-9813-e333df30f5ff",
   "metadata": {},
   "outputs": [
    {
     "name": "stdout",
     "output_type": "stream",
     "text": [
      "Model: \"sequential\"\n",
      "_________________________________________________________________\n",
      "Layer (type)                 Output Shape              Param #   \n",
      "=================================================================\n",
      "mobilenetv2_1.00_224 (Functi (None, 7, 7, 1280)        2257984   \n",
      "_________________________________________________________________\n",
      "flatten (Flatten)            (None, 62720)             0         \n",
      "_________________________________________________________________\n",
      "dense (Dense)                (None, 512)               32113152  \n",
      "_________________________________________________________________\n",
      "dropout (Dropout)            (None, 512)               0         \n",
      "_________________________________________________________________\n",
      "dense_1 (Dense)              (None, 6)                 3078      \n",
      "=================================================================\n",
      "Total params: 34,374,214\n",
      "Trainable params: 34,340,102\n",
      "Non-trainable params: 34,112\n",
      "_________________________________________________________________\n"
     ]
    }
   ],
   "source": [
    "model = load_model(\"model.h5\")\n",
    "model.summary()"
   ]
  },
  {
   "cell_type": "markdown",
   "id": "801a9254-08e4-44e4-a619-657330f60224",
   "metadata": {},
   "source": [
    "## Test the accuracy using test dataset"
   ]
  },
  {
   "cell_type": "code",
   "execution_count": 13,
   "id": "b276ecf5-8779-431b-bc27-d80de63bd211",
   "metadata": {},
   "outputs": [
    {
     "name": "stdout",
     "output_type": "stream",
     "text": [
      "600/600 [==============================] - 10s 16ms/step\n",
      "              precision    recall  f1-score   support\n",
      "\n",
      "        Boat       0.92      0.95      0.94       100\n",
      "         Bus       0.93      0.93      0.93       100\n",
      "         Car       0.92      0.94      0.93       100\n",
      "         Cat       0.99      0.97      0.98       100\n",
      "      Flower       1.00      0.98      0.99       100\n",
      "       Horse       1.00      0.99      0.99       100\n",
      "\n",
      "    accuracy                           0.96       600\n",
      "   macro avg       0.96      0.96      0.96       600\n",
      "weighted avg       0.96      0.96      0.96       600\n",
      "\n"
     ]
    }
   ],
   "source": [
    "predictions = model.predict(test_datagen, steps= num_val_images, verbose=1)\n",
    "\n",
    "df_preds = pd.DataFrame(predictions,columns=CLASSES)\n",
    "#df_preds.head()\n",
    "y_true = val_datagen.classes\n",
    "\n",
    "from sklearn.metrics import classification_report\n",
    "\n",
    "# Generate a classification report\n",
    "\n",
    "# For this to work we need y_pred as binary labels not as probabilities\n",
    "y_pred_binary = predictions.argmax(axis=1)\n",
    "\n",
    "report = classification_report(y_true, y_pred_binary, target_names=CLASSES)\n",
    "\n",
    "print(report)"
   ]
  },
  {
   "cell_type": "code",
   "execution_count": null,
   "id": "997e956b-2efb-4231-be51-6972181e7fc9",
   "metadata": {},
   "outputs": [],
   "source": []
  }
 ],
 "metadata": {
  "kernelspec": {
   "display_name": "Python 3",
   "language": "python",
   "name": "python3"
  },
  "language_info": {
   "codemirror_mode": {
    "name": "ipython",
    "version": 3
   },
   "file_extension": ".py",
   "mimetype": "text/x-python",
   "name": "python",
   "nbconvert_exporter": "python",
   "pygments_lexer": "ipython3",
   "version": "3.9.0"
  }
 },
 "nbformat": 4,
 "nbformat_minor": 5
}
